{
 "cells": [
  {
   "cell_type": "markdown",
   "id": "470f4657-d274-4485-8bdf-1d1dc738b98b",
   "metadata": {},
   "source": [
    "A proabality mass function is used for discrete random variables.it gives the probablity that a discrete random variable is exactly equal to some value.For example(1,2,3,4,50"
   ]
  },
  {
   "cell_type": "markdown",
   "id": "db602bb0-1b68-49cb-a35a-79b755e274bf",
   "metadata": {},
   "source": [
    "A probability density function is used for continous random variable instead of giving the probability at specfic points it gives the probablity density at range of values "
   ]
  },
  {
   "cell_type": "markdown",
   "id": "c598d585-6b1b-4eb7-8017-423a1a982dff",
   "metadata": {},
   "source": [
    "A cumulative Distribution Function gives the probablity that a random variable is less than or equal to a certain point.for continous it is the integral of the probality denisty function up to that poiint.Let take example of a fair six-sided die again.The CDF would start at 0 and increased by 1/6 each time you move to the next value on the so at the value of 3."
   ]
  },
  {
   "cell_type": "markdown",
   "id": "f20ff283-5a86-4a3c-967e-352f2bc574fb",
   "metadata": {},
   "source": [
    "The normal distribution also know as the Gaussian distribution is a widely used probality distribution in various fields due to its versatility and applicablity to many real-world situations:"
   ]
  },
  {
   "cell_type": "markdown",
   "id": "3b1bba2c-c13d-4f88-9528-1df168800303",
   "metadata": {},
   "source": [
    "1. Height of Adults\n",
    "2. IQ scores\n",
    "3. Measurement Errors\n",
    "4. Stock prices"
   ]
  },
  {
   "cell_type": "markdown",
   "id": "fd2a8b95-4e97-44ce-a64c-40076f7e0b45",
   "metadata": {},
   "source": [
    "The normal distribution is crucial various fields due to its properties and prevalance in nature real life examples  of normal distribiution are :\n",
    "1. Height of population\n",
    "2. Test score\n",
    "3. Measurement Errors\n",
    "4. Stock prices\n",
    "5. Bilogical traits"
   ]
  },
  {
   "cell_type": "markdown",
   "id": "362ea568-ba64-4378-8c09-5d6c1b795e8a",
   "metadata": {},
   "source": [
    "The Bernouli distribution is a discrete probality distribution is a discrete probality distribution representing the outcomes of a single experiment or trial with only with outcomes of a single experiment or trial with only two possiible outcomes sucess usually code as 1 it named after swiss mathematican jacob bernouli .the distribution is charcerized by a single parmeter.Example  a single coin flip where sucess might be defined as getting heads and failure.\n",
    "1. Bernouli distribution \n",
    "2. Binomial distribution"
   ]
  },
  {
   "cell_type": "markdown",
   "id": "efe6afae-8bb5-417c-83aa-6510b72ae82b",
   "metadata": {},
   "source": [
    "The uniform distribution is a probality distribution where all outcomes are equally likely in other words each same  probality of occuring it is chartersized by two parameters the miniuum value and the maxium value.An example of a uniform distributrion is rolling a fair six sided die .each face of the die has an equal probality of 1/6 of landing face up therefore the outcomes of rolling the die (1,2,3,4,5,6)"
   ]
  },
  {
   "cell_type": "markdown",
   "id": "cc1d5a5c-2ae4-40a0-8e69-89ee21ab244d",
   "metadata": {},
   "source": [
    "The z score also know as the standard score is a measure of how many standard is a measure of how many standard devation a particular data point is form the mean of a dataset.it calculated using the following\n",
    "The z-score indicates whether a data point is above or below the mean of the datset and by how many standard devation .A postive z-score indicates that it is below the mean"
   ]
  },
  {
   "cell_type": "markdown",
   "id": "247acc07-4577-4cea-beeb-cc0f90f79929",
   "metadata": {},
   "source": [
    "The Central Limit thereom states that the sampling distribution of the sample mean of any independent and identically distributed random variable apporaches a normal distribution as the sample size increase regardless of the shape of the orginal population distribution is not normal the distribution of sample means will tend "
   ]
  },
  {
   "cell_type": "markdown",
   "id": "d62210c6-5958-4d52-a78d-f53f704cb04d",
   "metadata": {},
   "source": [
    "1. Statictical interface\n",
    "2. Sampling Distribution\n",
    "3. Quality control and process improvement\n",
    "4. Economic and finance"
   ]
  }
 ],
 "metadata": {
  "kernelspec": {
   "display_name": "Python 3 (ipykernel)",
   "language": "python",
   "name": "python3"
  },
  "language_info": {
   "codemirror_mode": {
    "name": "ipython",
    "version": 3
   },
   "file_extension": ".py",
   "mimetype": "text/x-python",
   "name": "python",
   "nbconvert_exporter": "python",
   "pygments_lexer": "ipython3",
   "version": "3.10.8"
  }
 },
 "nbformat": 4,
 "nbformat_minor": 5
}
